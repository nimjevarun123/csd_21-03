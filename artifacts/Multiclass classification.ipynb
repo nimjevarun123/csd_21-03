{
 "cells": [
  {
   "cell_type": "code",
   "execution_count": null,
   "id": "2476906b",
   "metadata": {},
   "outputs": [],
   "source": [
    "1. Supervised  \n",
    "    1.1 Regression \n",
    "    1.2 classification \n",
    "        1.2.1 Binary classification   [two class]\n",
    "        1.2.2 Multiclass classification  [three classes on more than 3 class]\n",
    "                Nominal \n",
    "                Ordinal \n",
    "2. Upsupervised\n",
    "3. Reinforcement"
   ]
  },
  {
   "cell_type": "code",
   "execution_count": null,
   "id": "c096394a",
   "metadata": {},
   "outputs": [],
   "source": []
  },
  {
   "cell_type": "markdown",
   "id": "3d5603cc",
   "metadata": {},
   "source": [
    "# Multiclass classification"
   ]
  },
  {
   "cell_type": "code",
   "execution_count": null,
   "id": "22196ea3",
   "metadata": {},
   "outputs": [],
   "source": [
    "classification \n",
    "    Binary classification   [two class]\n",
    "    Multiclass classification  [three classes on more than 3 class]\n",
    "      Nominal  [Equal weights]\n",
    "      Ordinal  [Order will be maintain]\n",
    "    \n",
    "    \n",
    "    Ex. \n",
    "    email classification >> primary, promotional, social [Nominal]\n",
    "    vehicle classification >> mototcycle, car, bus, truck [Nominal]\n",
    "    packet size >> 200 gm , 400 gms , 500 gms , 1000 gms [Ordinal]"
   ]
  },
  {
   "cell_type": "code",
   "execution_count": null,
   "id": "b8929bf3",
   "metadata": {},
   "outputs": [],
   "source": [
    "to handle multiclass classification we have two Approach \n",
    "1. OVR [One vs Rest] or OVA [One vs All]\n",
    "\n",
    "One class is considered as positive class and rest classes are considered as negative class\n",
    "\n",
    "class [Red, Green , Blue]: \n",
    "    \n",
    "    Binary classification 1 : red vs [Green and Blue]\n",
    "    Binary classification 2 : Green vs [Red and Blue]\n",
    "    Binary classification 3 : Blue vs [Red and Green]\n",
    "        \n",
    "Logistic regression follow this approach OVR or OVA\n",
    "\n",
    "\n",
    "2.  OVO [One vs One]\n",
    "\n",
    "\n",
    "class [Red, Green , Blue, Yellow]:  ## SVM Support Vector Machine\n",
    "    # Combinations\n",
    "    Binary classification 1: Red vs Green\n",
    "    Binary classification 2: Red vs Blue\n",
    "    Binary classification 3: Red vs Yellow\n",
    "    Binary classification 4: Green vs Blue \n",
    "    Binary classification 5: Green vs Yellow\n",
    "    Binary classification 6: Blue vs Yellow \n",
    "        \n",
    "        \n",
    "    5 classes >> \n",
    "    \n",
    "    NCR = n! / (r! * n-r!)\n",
    "           \n",
    "           \n",
    "    n* (n-1)/2\n",
    "        \n",
    "\n",
    "\n"
   ]
  },
  {
   "cell_type": "code",
   "execution_count": 2,
   "id": "28341f31",
   "metadata": {},
   "outputs": [
    {
     "data": {
      "text/plain": [
       "6.0"
      ]
     },
     "execution_count": 2,
     "metadata": {},
     "output_type": "execute_result"
    }
   ],
   "source": [
    "n = 4\n",
    "no = n * (n-1)/2\n",
    "no"
   ]
  },
  {
   "cell_type": "code",
   "execution_count": 3,
   "id": "3dd54506",
   "metadata": {},
   "outputs": [
    {
     "data": {
      "text/plain": [
       "10.0"
      ]
     },
     "execution_count": 3,
     "metadata": {},
     "output_type": "execute_result"
    }
   ],
   "source": [
    "n = 5\n",
    "no = n * (n-1)/2\n",
    "no"
   ]
  },
  {
   "cell_type": "code",
   "execution_count": 4,
   "id": "a2eae5c0",
   "metadata": {},
   "outputs": [
    {
     "data": {
      "text/plain": [
       "3.0"
      ]
     },
     "execution_count": 4,
     "metadata": {},
     "output_type": "execute_result"
    }
   ],
   "source": [
    "n = 3\n",
    "no = n * (n-1)/2\n",
    "no"
   ]
  },
  {
   "cell_type": "code",
   "execution_count": null,
   "id": "994f8a88",
   "metadata": {},
   "outputs": [],
   "source": []
  }
 ],
 "metadata": {
  "kernelspec": {
   "display_name": "Python 3 (ipykernel)",
   "language": "python",
   "name": "python3"
  },
  "language_info": {
   "codemirror_mode": {
    "name": "ipython",
    "version": 3
   },
   "file_extension": ".py",
   "mimetype": "text/x-python",
   "name": "python",
   "nbconvert_exporter": "python",
   "pygments_lexer": "ipython3",
   "version": "3.9.12"
  }
 },
 "nbformat": 4,
 "nbformat_minor": 5
}
